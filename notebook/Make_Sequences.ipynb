{
 "cells": [
  {
   "cell_type": "code",
   "execution_count": 1,
   "id": "f3473f40-7083-4b34-b66f-a980c86afa8a",
   "metadata": {},
   "outputs": [],
   "source": [
    "import pandas as pd\n",
    "from collections import defaultdict\n"
   ]
  },
  {
   "cell_type": "code",
   "execution_count": 2,
   "id": "20e54832-e6ba-47b2-9f17-32f4d6db427e",
   "metadata": {},
   "outputs": [],
   "source": [
    "def create_sequences(ratings_path, output_path, min_len=3):\n",
    "    df = pd.read_csv(ratings_path)\n",
    "    df = df.sort_values(by=[\"user_id\"])  # ensure user order (if timestamp missing)\n",
    "    \n",
    "    # Group interactions per user\n",
    "    user_groups = defaultdict(list)\n",
    "    for _, row in df.iterrows():\n",
    "        user_groups[row[\"user_id\"]].append(row[\"book_isbn\"])\n",
    "    \n",
    "    # Build (sequence, target) pairs\n",
    "    sequences = []\n",
    "    for user_id, books in user_groups.items():\n",
    "        if len(books) < min_len:\n",
    "            continue\n",
    "        for i in range(1, len(books)):\n",
    "            sequences.append({\n",
    "                \"user_id\": user_id,\n",
    "                \"input_sequence\": books[:i],\n",
    "                \"target\": books[i]\n",
    "            })\n",
    "    \n",
    "    seq_df = pd.DataFrame(sequences)\n",
    "    seq_df.to_pickle(output_path)\n",
    "    print(f\"✅ Saved {len(seq_df)} sequences to {output_path}\")\n",
    "\n"
   ]
  },
  {
   "cell_type": "code",
   "execution_count": 3,
   "id": "797fb209-7cc4-4da6-bd07-4f2509abb57c",
   "metadata": {},
   "outputs": [
    {
     "name": "stdout",
     "output_type": "stream",
     "text": [
      "✅ Saved 692910 sequences to ./../clean_data/sequences.pkl\n"
     ]
    }
   ],
   "source": [
    "if __name__ == \"__main__\":\n",
    "    create_sequences(\"./../clean_data/ratings.csv\", \"./../clean_data/sequences.pkl\")"
   ]
  },
  {
   "cell_type": "code",
   "execution_count": null,
   "id": "b5c6baf7-9e0a-4555-bbb7-876bca12a5d6",
   "metadata": {},
   "outputs": [],
   "source": []
  },
  {
   "cell_type": "code",
   "execution_count": null,
   "id": "d5ace64f-b609-4eab-bf18-d9eb87b4372b",
   "metadata": {},
   "outputs": [],
   "source": []
  }
 ],
 "metadata": {
  "kernelspec": {
   "display_name": "Python 3 (ipykernel)",
   "language": "python",
   "name": "python3"
  },
  "language_info": {
   "codemirror_mode": {
    "name": "ipython",
    "version": 3
   },
   "file_extension": ".py",
   "mimetype": "text/x-python",
   "name": "python",
   "nbconvert_exporter": "python",
   "pygments_lexer": "ipython3",
   "version": "3.11.7"
  }
 },
 "nbformat": 4,
 "nbformat_minor": 5
}
